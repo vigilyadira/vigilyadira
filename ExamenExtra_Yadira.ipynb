{
  "nbformat": 4,
  "nbformat_minor": 0,
  "metadata": {
    "colab": {
      "provenance": []
    },
    "kernelspec": {
      "name": "python3",
      "display_name": "Python 3"
    },
    "language_info": {
      "name": "python"
    }
  },
  "cells": [
    {
      "cell_type": "markdown",
      "source": [
        "## Algebra Lineal\n",
        "\n",
        "### 1er examen parcial"
      ],
      "metadata": {
        "id": "m93nhBA98vRW"
      }
    },
    {
      "cell_type": "code",
      "source": [
        "!pip install --target=$nb_path nacal\n",
        "from nacal import *"
      ],
      "metadata": {
        "colab": {
          "base_uri": "https://localhost:8080/"
        },
        "id": "R9T5pjrJ73j2",
        "outputId": "cbc2586e-aab0-4d72-fdd2-c5bb92a42f0b"
      },
      "execution_count": 2,
      "outputs": [
        {
          "output_type": "stream",
          "name": "stdout",
          "text": [
            "Collecting nacal\n",
            "  Downloading nacal-0.2.1-py3-none-any.whl (40 kB)\n",
            "\u001b[?25l     \u001b[90m━━━━━━━━━━━━━━━━━━━━━━━━━━━━━━━━━━━━━━━━\u001b[0m \u001b[32m0.0/40.0 kB\u001b[0m \u001b[31m?\u001b[0m eta \u001b[36m-:--:--\u001b[0m\r\u001b[2K     \u001b[90m━━━━━━━━━━━━━━━━━━━━━━━━━━━━━━━━━━━━━━━━\u001b[0m \u001b[32m40.0/40.0 kB\u001b[0m \u001b[31m962.5 kB/s\u001b[0m eta \u001b[36m0:00:00\u001b[0m\n",
            "\u001b[?25hRequirement already satisfied: sympy>=1.1.0 in /usr/local/lib/python3.10/dist-packages (from nacal) (1.13.0)\n",
            "Requirement already satisfied: mpmath<1.4,>=1.1.0 in /usr/local/lib/python3.10/dist-packages (from sympy>=1.1.0->nacal) (1.3.0)\n",
            "Installing collected packages: nacal\n",
            "Successfully installed nacal-0.2.1\n"
          ]
        }
      ]
    },
    {
      "cell_type": "markdown",
      "source": [
        "EN este notebook deberás realizar cada uno de los ejercicios utilizando Python dentro de los bloques de código, si alguna salida requiere la visualización mediante Latex escribe el bloque correspondiente."
      ],
      "metadata": {
        "id": "OWBcJp7z9U8G"
      }
    },
    {
      "cell_type": "markdown",
      "metadata": {
        "id": "kXLRi02u_bK6"
      },
      "source": [
        "1. Genere los vectores $a$ y $ {b}$:\n",
        "\n",
        "-   el vector ${a}$ está formado por la lista de números: 1, $\\frac{1}{3}$, -5, π\n",
        "-   el vector ${b}$ está formado por la lista de números: 1, $\\frac{2}{3}$, 0.01,  $\\sqrt 2$\n",
        "-   súmelos"
      ]
    },
    {
      "cell_type": "code",
      "execution_count": 3,
      "metadata": {
        "id": "7GzeUtyj8qwb",
        "colab": {
          "base_uri": "https://localhost:8080/",
          "height": 46
        },
        "outputId": "518e2d86-8a53-4f9d-f46e-77c727cc2e80"
      },
      "outputs": [
        {
          "output_type": "execute_result",
          "data": {
            "text/plain": [
              "Vector([2, 1, -4.99000000000000, 4.55160000000000])"
            ],
            "text/html": [
              "<p style=\"text-align:center;\">$\\begin{pmatrix}2\\\\ 1\\\\ -4.99\\\\ 4.5516\\end{pmatrix}$</p>"
            ],
            "image/png": "$\\begin{pmatrix}2\\\\ 1\\\\ -4.99\\\\ 4.5516\\end{pmatrix}$",
            "text/latex": "$\\begin{pmatrix}2\\\\ 1\\\\ -4.99\\\\ 4.5516\\end{pmatrix}$"
          },
          "metadata": {},
          "execution_count": 3
        }
      ],
      "source": [
        "\n",
        "a=Vector( [1,fracc(1,3),-5,3.1416])\n",
        "b=Vector( [1,fracc(2,3),0.01,1.41])\n",
        "a+b"
      ]
    },
    {
      "cell_type": "markdown",
      "source": [
        "$\\begin{pmatrix}2\\\\ 1\\\\ -4.99\\\\ 4.5516\\end{pmatrix}$"
      ],
      "metadata": {
        "id": "pLuwZR177-0W"
      }
    },
    {
      "cell_type": "markdown",
      "metadata": {
        "id": "6FIT3apxOYdq"
      },
      "source": [
        "2. Proporcione ejemplos de matrices 3 por 3 no nulas de los siguientes\n",
        "tipos de matrices:\n",
        "\n",
        "-   Una matriz diagonal\n",
        "\n"
      ]
    },
    {
      "cell_type": "code",
      "source": [
        "\n",
        "a=Vector([3,0,0])\n",
        "b=Vector([0,2,0])\n",
        "c=Vector([0,0,1])\n",
        "A=Matrix([a,b,c])\n",
        "A\n",
        ""
      ],
      "metadata": {
        "colab": {
          "base_uri": "https://localhost:8080/",
          "height": 46
        },
        "id": "aH9I4UIT8BTf",
        "outputId": "7282d0f7-b1aa-4624-8aa4-2f214db65dfd"
      },
      "execution_count": 4,
      "outputs": [
        {
          "output_type": "execute_result",
          "data": {
            "text/plain": [
              "Matrix([Vector([3, 0, 0]), Vector([0, 2, 0]), Vector([0, 0, 1])])"
            ],
            "text/html": [
              "<p style=\"text-align:center;\">$\\left[ \\begin{array}{ccc}3&0&0\\\\0&2&0\\\\0&0&1\\\\ \\end{array} \\right]$</p>"
            ],
            "image/png": "$\\left[ \\begin{array}{ccc}3&0&0\\\\0&2&0\\\\0&0&1\\\\ \\end{array} \\right]$",
            "text/latex": "$\\left[ \\begin{array}{ccc}3&0&0\\\\0&2&0\\\\0&0&1\\\\ \\end{array} \\right]$"
          },
          "metadata": {},
          "execution_count": 4
        }
      ]
    },
    {
      "cell_type": "markdown",
      "source": [
        "$\\left[ \\begin{array}{ccc}3&0&0\\\\0&2&0\\\\0&0&1\\\\ \\end{array} \\right]$"
      ],
      "metadata": {
        "id": "smf-piMw8HYE"
      }
    },
    {
      "cell_type": "markdown",
      "metadata": {
        "id": "WMMsUBTtOYdq"
      },
      "source": [
        "-   Una matriz simétrica\n",
        "\n"
      ]
    },
    {
      "cell_type": "code",
      "execution_count": 6,
      "metadata": {
        "id": "a7YW_5VFOYdq",
        "colab": {
          "base_uri": "https://localhost:8080/",
          "height": 46
        },
        "outputId": "bd6562ec-fe7d-45b1-8dd8-5ea001d55d47"
      },
      "outputs": [
        {
          "output_type": "execute_result",
          "data": {
            "text/plain": [
              "Matrix([Vector([1, 1, 2]), Vector([1, 1, 3]), Vector([2, 3, 1])])"
            ],
            "text/html": [
              "<p style=\"text-align:center;\">$\\left[ \\begin{array}{ccc}1&1&2\\\\1&1&3\\\\2&3&1\\\\ \\end{array} \\right]$</p>"
            ],
            "image/png": "$\\left[ \\begin{array}{ccc}1&1&2\\\\1&1&3\\\\2&3&1\\\\ \\end{array} \\right]$",
            "text/latex": "$\\left[ \\begin{array}{ccc}1&1&2\\\\1&1&3\\\\2&3&1\\\\ \\end{array} \\right]$"
          },
          "metadata": {},
          "execution_count": 6
        }
      ],
      "source": [
        "\n",
        "\n",
        "a=Vector([1,1,2])\n",
        "b=Vector([1,1,3])\n",
        "c=Vector([2,3,1])\n",
        "A=Matrix([a,b,c])\n",
        "A"
      ]
    },
    {
      "cell_type": "markdown",
      "source": [
        "$\\left[ \\begin{array}{ccc}1&1&2\\\\1&1&3\\\\2&3&1\\\\ \\end{array} \\right]$"
      ],
      "metadata": {
        "id": "2Voz0NED8NZh"
      }
    },
    {
      "cell_type": "markdown",
      "metadata": {
        "id": "roLWrzwXj1X6"
      },
      "source": [
        "3. Cree la matriz\n",
        "$${A}=\\begin{bmatrix}1&0&0&7\\\\2&0&7&6\\\\-4&3&3&5\\\\0&3&4&-1\\end{bmatrix}$$\n",
        "\n"
      ]
    },
    {
      "cell_type": "code",
      "source": [
        "a=Vector([1,2,-4,0])\n",
        "b=Vector([0,0,3,3])\n",
        "c=Vector([0,7,3,4])\n",
        "d=Vector([7,6,5,-1])\n",
        "A=Matrix([a,b,c,d])\n",
        "A"
      ],
      "metadata": {
        "colab": {
          "base_uri": "https://localhost:8080/",
          "height": 46
        },
        "id": "1-BUAPQS8PXL",
        "outputId": "48ab06a5-e1fe-4c37-9971-a35ab3811f39"
      },
      "execution_count": 8,
      "outputs": [
        {
          "output_type": "execute_result",
          "data": {
            "text/plain": [
              "Matrix([Vector([1, 2, -4, 0]), Vector([0, 0, 3, 3]), Vector([0, 7, 3, 4]), Vector([7, 6, 5, -1])])"
            ],
            "text/html": [
              "<p style=\"text-align:center;\">$\\left[ \\begin{array}{cccc}1&0&0&7\\\\2&0&7&6\\\\-4&3&3&5\\\\0&3&4&-1\\\\ \\end{array} \\right]$</p>"
            ],
            "image/png": "$\\left[ \\begin{array}{cccc}1&0&0&7\\\\2&0&7&6\\\\-4&3&3&5\\\\0&3&4&-1\\\\ \\end{array} \\right]$",
            "text/latex": "$\\left[ \\begin{array}{cccc}1&0&0&7\\\\2&0&7&6\\\\-4&3&3&5\\\\0&3&4&-1\\\\ \\end{array} \\right]$"
          },
          "metadata": {},
          "execution_count": 8
        }
      ]
    },
    {
      "cell_type": "markdown",
      "source": [
        "$\\left[ \\begin{array}{cccc}1&0&0&7\\\\2&0&7&6\\\\-4&3&3&5\\\\0&3&4&-1\\\\ \\end{array} \\right]$"
      ],
      "metadata": {
        "id": "u7pmcOST8jE-"
      }
    },
    {
      "cell_type": "markdown",
      "metadata": {
        "id": "96CPH5a_j1X9"
      },
      "source": [
        "Calcule el siguiente vector: 3 veces la primera columna de $A$\n",
        "mas la segunda columna de $A$ menos 2 veces la tercera columna\n",
        "menos 3 veces la última columna de $A$\n",
        "\n"
      ]
    },
    {
      "cell_type": "code",
      "execution_count": 9,
      "metadata": {
        "id": "DLRtU4HDOYdq",
        "colab": {
          "base_uri": "https://localhost:8080/",
          "height": 46
        },
        "outputId": "2a67ac99-886d-44c3-f8dd-f0bbd87b1f30"
      },
      "outputs": [
        {
          "output_type": "execute_result",
          "data": {
            "text/plain": [
              "Vector([-18, -26, -30, -2])"
            ],
            "text/html": [
              "<p style=\"text-align:center;\">$\\begin{pmatrix}-18\\\\ -26\\\\ -30\\\\ -2\\end{pmatrix}$</p>"
            ],
            "image/png": "$\\begin{pmatrix}-18\\\\ -26\\\\ -30\\\\ -2\\end{pmatrix}$",
            "text/latex": "$\\begin{pmatrix}-18\\\\ -26\\\\ -30\\\\ -2\\end{pmatrix}$"
          },
          "metadata": {},
          "execution_count": 9
        }
      ],
      "source": [
        "(3*(A|1)) + (A|2) - (2*(A|3)) - (3*(A|4))"
      ]
    },
    {
      "cell_type": "markdown",
      "source": [
        "$\\begin{pmatrix}-18\\\\ -26\\\\ -30\\\\ -2\\end{pmatrix}$"
      ],
      "metadata": {
        "id": "jgCmDS3J9B7b"
      }
    },
    {
      "cell_type": "markdown",
      "metadata": {
        "ein.tags": "worksheet-0",
        "id": "Hin_mRv6cDtt"
      },
      "source": [
        "**4**.Genera la matriz identidad  I de rango 4 y 10\n"
      ]
    },
    {
      "cell_type": "code",
      "source": [
        "I(4)"
      ],
      "metadata": {
        "colab": {
          "base_uri": "https://localhost:8080/",
          "height": 46
        },
        "id": "sPRFjO6dCKwf",
        "outputId": "2d0641f5-c38a-4a88-800e-3a019f8aa8e0"
      },
      "execution_count": 27,
      "outputs": [
        {
          "output_type": "execute_result",
          "data": {
            "text/plain": [
              "Matrix([Vector([1, 0, 0, 0]), Vector([0, 1, 0, 0]), Vector([0, 0, 1, 0]), Vector([0, 0, 0, 1])])"
            ],
            "text/html": [
              "<p style=\"text-align:center;\">$\\left[ \\begin{array}{cccc}1&0&0&0\\\\0&1&0&0\\\\0&0&1&0\\\\0&0&0&1\\\\ \\end{array} \\right]$</p>"
            ],
            "image/png": "$\\left[ \\begin{array}{cccc}1&0&0&0\\\\0&1&0&0\\\\0&0&1&0\\\\0&0&0&1\\\\ \\end{array} \\right]$",
            "text/latex": "$\\left[ \\begin{array}{cccc}1&0&0&0\\\\0&1&0&0\\\\0&0&1&0\\\\0&0&0&1\\\\ \\end{array} \\right]$"
          },
          "metadata": {},
          "execution_count": 27
        }
      ]
    },
    {
      "cell_type": "markdown",
      "source": [
        "$\\left[ \\begin{array}{cccc}1&0&0&0\\\\0&1&0&0\\\\0&0&1&0\\\\0&0&0&1\\\\ \\end{array} \\right]$"
      ],
      "metadata": {
        "id": "1wtkxkzoDvUA"
      }
    },
    {
      "cell_type": "code",
      "execution_count": 28,
      "metadata": {
        "autoscroll": false,
        "ein.hycell": false,
        "ein.tags": "worksheet-0",
        "id": "8dfGpxIdcDtt",
        "colab": {
          "base_uri": "https://localhost:8080/",
          "height": 46
        },
        "outputId": "ef4d0a09-89ac-4b3f-8f8f-e7b1f08062fa"
      },
      "outputs": [
        {
          "output_type": "execute_result",
          "data": {
            "text/plain": [
              "Matrix([Vector([1, 0, 0, 0, 0, 0, 0]), Vector([0, 1, 0, 0, 0, 0, 0]), Vector([0, 0, 1, 0, 0, 0, 0]), Vector([0, 0, 0, 1, 0, 0, 0]), Vector([0, 0, 0, 0, 1, 0, 0]), Vector([0, 0, 0, 0, 0, 1, 0]), Vector([0, 0, 0, 0, 0, 0, 1])])"
            ],
            "text/html": [
              "<p style=\"text-align:center;\">$\\left[ \\begin{array}{ccccccc}1&0&0&0&0&0&0\\\\0&1&0&0&0&0&0\\\\0&0&1&0&0&0&0\\\\0&0&0&1&0&0&0\\\\0&0&0&0&1&0&0\\\\0&0&0&0&0&1&0\\\\0&0&0&0&0&0&1\\\\ \\end{array} \\right]$</p>"
            ],
            "image/png": "$\\left[ \\begin{array}{ccccccc}1&0&0&0&0&0&0\\\\0&1&0&0&0&0&0\\\\0&0&1&0&0&0&0\\\\0&0&0&1&0&0&0\\\\0&0&0&0&1&0&0\\\\0&0&0&0&0&1&0\\\\0&0&0&0&0&0&1\\\\ \\end{array} \\right]$",
            "text/latex": "$\\left[ \\begin{array}{ccccccc}1&0&0&0&0&0&0\\\\0&1&0&0&0&0&0\\\\0&0&1&0&0&0&0\\\\0&0&0&1&0&0&0\\\\0&0&0&0&1&0&0\\\\0&0&0&0&0&1&0\\\\0&0&0&0&0&0&1\\\\ \\end{array} \\right]$"
          },
          "metadata": {},
          "execution_count": 28
        }
      ],
      "source": [
        "I(7)"
      ]
    },
    {
      "cell_type": "markdown",
      "source": [
        "$\\left[ \\begin{array}{ccccccc}1&0&0&0&0&0&0\\\\0&1&0&0&0&0&0\\\\0&0&1&0&0&0&0\\\\0&0&0&1&0&0&0\\\\0&0&0&0&1&0&0\\\\0&0&0&0&0&1&0\\\\0&0&0&0&0&0&1\\\\ \\end{array} \\right]$"
      ],
      "metadata": {
        "id": "_zY4uEhMCume"
      }
    },
    {
      "cell_type": "markdown",
      "source": [
        "5. Producto punto\n",
        "Considere los vectores ${x}=(1, 1, -2)$, ${y}=(1, -2, 1)$\n",
        "calcula el producto punto"
      ],
      "metadata": {
        "id": "aHZ16S1peAeY"
      }
    },
    {
      "cell_type": "code",
      "source": [
        "x=Vector([1,1,-2])\n",
        "y=Vector([1,-2,1])\n",
        "L=x*y\n",
        "L"
      ],
      "metadata": {
        "id": "QPfhac1geMQK",
        "colab": {
          "base_uri": "https://localhost:8080/",
          "height": 37
        },
        "outputId": "d806161c-251e-4a5b-cfc1-8ed19a52fde3"
      },
      "execution_count": 26,
      "outputs": [
        {
          "output_type": "execute_result",
          "data": {
            "text/plain": [
              "-3"
            ],
            "text/latex": "$\\displaystyle -3$"
          },
          "metadata": {},
          "execution_count": 26
        }
      ]
    },
    {
      "cell_type": "markdown",
      "source": [
        "7. Escriba las siguientes matrices elementales de orden 4.\n",
        "\n",
        "\n",
        "(a) I τ\n",
        "[(−2)1+3]\n",
        "\n",
        "(b) I τ\n",
        "[(0.5)1+4]\n",
        "\n",
        "(c) I τ\n",
        "[(-3)2+1]\n",
        "\n",
        "(d) I τ\n",
        "[(−10)3]"
      ],
      "metadata": {
        "id": "2wXEkEH9hXGe"
      }
    },
    {
      "cell_type": "code",
      "source": [
        "I(4) & T((-2,1,3))"
      ],
      "metadata": {
        "colab": {
          "base_uri": "https://localhost:8080/",
          "height": 46
        },
        "id": "TJ4qrK2nALq2",
        "outputId": "a470de78-06ee-4283-bc56-4d66a6e7c0b2"
      },
      "execution_count": 30,
      "outputs": [
        {
          "output_type": "execute_result",
          "data": {
            "text/plain": [
              "Matrix([Vector([1, 0, 0, 0]), Vector([0, 1, 0, 0]), Vector([-2, 0, 1, 0]), Vector([0, 0, 0, 1])])"
            ],
            "text/html": [
              "<p style=\"text-align:center;\">$\\left[ \\begin{array}{cccc}1&0&-2&0\\\\0&1&0&0\\\\0&0&1&0\\\\0&0&0&1\\\\ \\end{array} \\right]$</p>"
            ],
            "image/png": "$\\left[ \\begin{array}{cccc}1&0&-2&0\\\\0&1&0&0\\\\0&0&1&0\\\\0&0&0&1\\\\ \\end{array} \\right]$",
            "text/latex": "$\\left[ \\begin{array}{cccc}1&0&-2&0\\\\0&1&0&0\\\\0&0&1&0\\\\0&0&0&1\\\\ \\end{array} \\right]$"
          },
          "metadata": {},
          "execution_count": 30
        }
      ]
    },
    {
      "cell_type": "markdown",
      "source": [
        "$\\left[ \\begin{array}{cccc}1&0&-2&0\\\\0&1&0&0\\\\0&0&1&0\\\\0&0&0&1\\\\ \\end{array} \\right]$"
      ],
      "metadata": {
        "id": "bteVzrsiEFVM"
      }
    },
    {
      "cell_type": "code",
      "source": [
        "I(4) & T((0.5,1,4))"
      ],
      "metadata": {
        "colab": {
          "base_uri": "https://localhost:8080/",
          "height": 46
        },
        "id": "7hpJqChxEjLs",
        "outputId": "ec5406a4-32fb-4692-8311-45aa4084b974"
      },
      "execution_count": 31,
      "outputs": [
        {
          "output_type": "execute_result",
          "data": {
            "text/plain": [
              "Matrix([Vector([1, 0, 0, 0]), Vector([0, 1, 0, 0]), Vector([0, 0, 1, 0]), Vector([0.500000000000000, 0, 0, 1])])"
            ],
            "text/html": [
              "<p style=\"text-align:center;\">$\\left[ \\begin{array}{cccc}1&0&0&0.5\\\\0&1&0&0\\\\0&0&1&0\\\\0&0&0&1\\\\ \\end{array} \\right]$</p>"
            ],
            "image/png": "$\\left[ \\begin{array}{cccc}1&0&0&0.5\\\\0&1&0&0\\\\0&0&1&0\\\\0&0&0&1\\\\ \\end{array} \\right]$",
            "text/latex": "$\\left[ \\begin{array}{cccc}1&0&0&0.5\\\\0&1&0&0\\\\0&0&1&0\\\\0&0&0&1\\\\ \\end{array} \\right]$"
          },
          "metadata": {},
          "execution_count": 31
        }
      ]
    },
    {
      "cell_type": "markdown",
      "source": [
        "$\\left[ \\begin{array}{cccc}1&0&0&0.5\\\\0&1&0&0\\\\0&0&1&0\\\\0&0&0&1\\\\ \\end{array} \\right]$"
      ],
      "metadata": {
        "id": "5SBcCmpOEpeJ"
      }
    },
    {
      "cell_type": "code",
      "source": [
        "I(4) & T((-3,2,1))"
      ],
      "metadata": {
        "colab": {
          "base_uri": "https://localhost:8080/",
          "height": 46
        },
        "id": "M6X9BV36EHcQ",
        "outputId": "8ca0fdd2-3a92-49c4-9c8c-0744b33c4549"
      },
      "execution_count": 32,
      "outputs": [
        {
          "output_type": "execute_result",
          "data": {
            "text/plain": [
              "Matrix([Vector([1, -3, 0, 0]), Vector([0, 1, 0, 0]), Vector([0, 0, 1, 0]), Vector([0, 0, 0, 1])])"
            ],
            "text/html": [
              "<p style=\"text-align:center;\">$\\left[ \\begin{array}{cccc}1&0&0&0\\\\-3&1&0&0\\\\0&0&1&0\\\\0&0&0&1\\\\ \\end{array} \\right]$</p>"
            ],
            "image/png": "$\\left[ \\begin{array}{cccc}1&0&0&0\\\\-3&1&0&0\\\\0&0&1&0\\\\0&0&0&1\\\\ \\end{array} \\right]$",
            "text/latex": "$\\left[ \\begin{array}{cccc}1&0&0&0\\\\-3&1&0&0\\\\0&0&1&0\\\\0&0&0&1\\\\ \\end{array} \\right]$"
          },
          "metadata": {},
          "execution_count": 32
        }
      ]
    },
    {
      "cell_type": "markdown",
      "source": [
        "$\\left[ \\begin{array}{cccc}1&0&0&0\\\\-3&1&0&0\\\\0&0&1&0\\\\0&0&0&1\\\\ \\end{array} \\right]$"
      ],
      "metadata": {
        "id": "cVMkAxzZErls"
      }
    },
    {
      "cell_type": "code",
      "source": [
        "I(4) & T((-10,3))"
      ],
      "metadata": {
        "colab": {
          "base_uri": "https://localhost:8080/",
          "height": 46
        },
        "id": "K0jAtQk_ERnH",
        "outputId": "b8b439eb-7a63-4400-9787-1868f9a80874"
      },
      "execution_count": 33,
      "outputs": [
        {
          "output_type": "execute_result",
          "data": {
            "text/plain": [
              "Matrix([Vector([1, 0, 0, 0]), Vector([0, 1, 0, 0]), Vector([0, 0, -10, 0]), Vector([0, 0, 0, 1])])"
            ],
            "text/html": [
              "<p style=\"text-align:center;\">$\\left[ \\begin{array}{cccc}1&0&0&0\\\\0&1&0&0\\\\0&0&-10&0\\\\0&0&0&1\\\\ \\end{array} \\right]$</p>"
            ],
            "image/png": "$\\left[ \\begin{array}{cccc}1&0&0&0\\\\0&1&0&0\\\\0&0&-10&0\\\\0&0&0&1\\\\ \\end{array} \\right]$",
            "text/latex": "$\\left[ \\begin{array}{cccc}1&0&0&0\\\\0&1&0&0\\\\0&0&-10&0\\\\0&0&0&1\\\\ \\end{array} \\right]$"
          },
          "metadata": {},
          "execution_count": 33
        }
      ]
    },
    {
      "cell_type": "markdown",
      "source": [
        "$\\left[ \\begin{array}{cccc}1&0&0&0\\\\0&1&0&0\\\\0&0&-10&0\\\\0&0&0&1\\\\ \\end{array} \\right]$"
      ],
      "metadata": {
        "id": "ONl2LyWvE1Z5"
      }
    },
    {
      "cell_type": "markdown",
      "source": [
        "6. Para la siguiente matriz $$\\left[ \\begin{array}{cccc}3&-2&2\\\\1&-1&-1\\\\2&1&2\\\\ \\end{array} \\right]$$ lleva a cabo el algoritmo de eliminación paso a paso.\n",
        "\n",
        "Escribe en una celda separada cada operacion elemental."
      ],
      "metadata": {
        "id": "hBXBxw0VcrAh"
      }
    },
    {
      "cell_type": "code",
      "source": [
        "M=Matrix([[3,-2,2],[1,-1,-1],[2,1,2]])\n",
        "M"
      ],
      "metadata": {
        "colab": {
          "base_uri": "https://localhost:8080/",
          "height": 46
        },
        "id": "tOqVraGg9h6t",
        "outputId": "d2ba4e88-a5f0-494e-886f-7e5330bad04b"
      },
      "execution_count": 11,
      "outputs": [
        {
          "output_type": "execute_result",
          "data": {
            "text/plain": [
              "Matrix([Vector([3, 1, 2]), Vector([-2, -1, 1]), Vector([2, -1, 2])])"
            ],
            "text/html": [
              "<p style=\"text-align:center;\">$\\left[ \\begin{array}{ccc}3&-2&2\\\\1&-1&-1\\\\2&1&2\\\\ \\end{array} \\right]$</p>"
            ],
            "image/png": "$\\left[ \\begin{array}{ccc}3&-2&2\\\\1&-1&-1\\\\2&1&2\\\\ \\end{array} \\right]$",
            "text/latex": "$\\left[ \\begin{array}{ccc}3&-2&2\\\\1&-1&-1\\\\2&1&2\\\\ \\end{array} \\right]$"
          },
          "metadata": {},
          "execution_count": 11
        }
      ]
    },
    {
      "cell_type": "markdown",
      "source": [
        "$\\left[ \\begin{array}{ccc}3&-2&2\\\\1&-1&-1\\\\2&1&2\\\\ \\end{array} \\right]$"
      ],
      "metadata": {
        "id": "ZgttCchw9oBG"
      }
    },
    {
      "cell_type": "code",
      "source": [
        "M&T((fracc(1,3),1))"
      ],
      "metadata": {
        "colab": {
          "base_uri": "https://localhost:8080/",
          "height": 46
        },
        "id": "aO-zPMk-9wdL",
        "outputId": "b1df13c1-bfd3-46ff-863a-6d5cf6f2cfa2"
      },
      "execution_count": 12,
      "outputs": [
        {
          "output_type": "execute_result",
          "data": {
            "text/plain": [
              "Matrix([Vector([1, 1/3, 2/3]), Vector([-2, -1, 1]), Vector([2, -1, 2])])"
            ],
            "text/html": [
              "<p style=\"text-align:center;\">$\\left[ \\begin{array}{ccc}1&-2&2\\\\\\frac{1}{3}&-1&-1\\\\\\frac{2}{3}&1&2\\\\ \\end{array} \\right]$</p>"
            ],
            "image/png": "$\\left[ \\begin{array}{ccc}1&-2&2\\\\\\frac{1}{3}&-1&-1\\\\\\frac{2}{3}&1&2\\\\ \\end{array} \\right]$",
            "text/latex": "$\\left[ \\begin{array}{ccc}1&-2&2\\\\\\frac{1}{3}&-1&-1\\\\\\frac{2}{3}&1&2\\\\ \\end{array} \\right]$"
          },
          "metadata": {},
          "execution_count": 12
        }
      ]
    },
    {
      "cell_type": "markdown",
      "source": [
        "$\\left[ \\begin{array}{ccc}1&-2&2\\\\\\frac{1}{3}&-1&-1\\\\\\frac{2}{3}&1&2\\\\ \\end{array} \\right]$"
      ],
      "metadata": {
        "id": "fzEYTOeZ-L2K"
      }
    },
    {
      "cell_type": "code",
      "source": [
        "M&T((2,1,2))"
      ],
      "metadata": {
        "colab": {
          "base_uri": "https://localhost:8080/",
          "height": 46
        },
        "id": "1oneUpPG-OkK",
        "outputId": "bc5c3e31-6a82-4bbf-d663-7ad31e34c8ab"
      },
      "execution_count": 13,
      "outputs": [
        {
          "output_type": "execute_result",
          "data": {
            "text/plain": [
              "Matrix([Vector([1, 1/3, 2/3]), Vector([0, -1/3, 7/3]), Vector([2, -1, 2])])"
            ],
            "text/html": [
              "<p style=\"text-align:center;\">$\\left[ \\begin{array}{ccc}1&0&2\\\\\\frac{1}{3}&- \\frac{1}{3}&-1\\\\\\frac{2}{3}&\\frac{7}{3}&2\\\\ \\end{array} \\right]$</p>"
            ],
            "image/png": "$\\left[ \\begin{array}{ccc}1&0&2\\\\\\frac{1}{3}&- \\frac{1}{3}&-1\\\\\\frac{2}{3}&\\frac{7}{3}&2\\\\ \\end{array} \\right]$",
            "text/latex": "$\\left[ \\begin{array}{ccc}1&0&2\\\\\\frac{1}{3}&- \\frac{1}{3}&-1\\\\\\frac{2}{3}&\\frac{7}{3}&2\\\\ \\end{array} \\right]$"
          },
          "metadata": {},
          "execution_count": 13
        }
      ]
    },
    {
      "cell_type": "markdown",
      "source": [
        "$\\left[ \\begin{array}{ccc}1&0&2\\\\\\frac{1}{3}&- \\frac{1}{3}&-1\\\\\\frac{2}{3}&\\frac{7}{3}&2\\\\ \\end{array} \\right]$"
      ],
      "metadata": {
        "id": "ODgI4Z-I-cBR"
      }
    },
    {
      "cell_type": "code",
      "source": [
        "M&T((-2,1,3))"
      ],
      "metadata": {
        "colab": {
          "base_uri": "https://localhost:8080/",
          "height": 46
        },
        "id": "7yQhVsrJ-eIZ",
        "outputId": "7939567f-abb9-454e-c9fb-8af84e485101"
      },
      "execution_count": 14,
      "outputs": [
        {
          "output_type": "execute_result",
          "data": {
            "text/plain": [
              "Matrix([Vector([1, 1/3, 2/3]), Vector([0, -1/3, 7/3]), Vector([0, -5/3, 2/3])])"
            ],
            "text/html": [
              "<p style=\"text-align:center;\">$\\left[ \\begin{array}{ccc}1&0&0\\\\\\frac{1}{3}&- \\frac{1}{3}&- \\frac{5}{3}\\\\\\frac{2}{3}&\\frac{7}{3}&\\frac{2}{3}\\\\ \\end{array} \\right]$</p>"
            ],
            "image/png": "$\\left[ \\begin{array}{ccc}1&0&0\\\\\\frac{1}{3}&- \\frac{1}{3}&- \\frac{5}{3}\\\\\\frac{2}{3}&\\frac{7}{3}&\\frac{2}{3}\\\\ \\end{array} \\right]$",
            "text/latex": "$\\left[ \\begin{array}{ccc}1&0&0\\\\\\frac{1}{3}&- \\frac{1}{3}&- \\frac{5}{3}\\\\\\frac{2}{3}&\\frac{7}{3}&\\frac{2}{3}\\\\ \\end{array} \\right]$"
          },
          "metadata": {},
          "execution_count": 14
        }
      ]
    },
    {
      "cell_type": "markdown",
      "source": [
        "$\\left[ \\begin{array}{ccc}1&0&0\\\\\\frac{1}{3}&- \\frac{1}{3}&- \\frac{5}{3}\\\\\\frac{2}{3}&\\frac{7}{3}&\\frac{2}{3}\\\\ \\end{array} \\right]$"
      ],
      "metadata": {
        "id": "0aXvKDlE-kFW"
      }
    },
    {
      "cell_type": "code",
      "source": [
        "M&T((-5,2,3))"
      ],
      "metadata": {
        "colab": {
          "base_uri": "https://localhost:8080/",
          "height": 46
        },
        "id": "tF_fOESr-n6x",
        "outputId": "158151f3-3c80-41d8-d1e9-f36f84e73d3b"
      },
      "execution_count": 15,
      "outputs": [
        {
          "output_type": "execute_result",
          "data": {
            "text/plain": [
              "Matrix([Vector([1, 1/3, 2/3]), Vector([0, -1/3, 7/3]), Vector([0, 0, -11])])"
            ],
            "text/html": [
              "<p style=\"text-align:center;\">$\\left[ \\begin{array}{ccc}1&0&0\\\\\\frac{1}{3}&- \\frac{1}{3}&0\\\\\\frac{2}{3}&\\frac{7}{3}&-11\\\\ \\end{array} \\right]$</p>"
            ],
            "image/png": "$\\left[ \\begin{array}{ccc}1&0&0\\\\\\frac{1}{3}&- \\frac{1}{3}&0\\\\\\frac{2}{3}&\\frac{7}{3}&-11\\\\ \\end{array} \\right]$",
            "text/latex": "$\\left[ \\begin{array}{ccc}1&0&0\\\\\\frac{1}{3}&- \\frac{1}{3}&0\\\\\\frac{2}{3}&\\frac{7}{3}&-11\\\\ \\end{array} \\right]$"
          },
          "metadata": {},
          "execution_count": 15
        }
      ]
    },
    {
      "cell_type": "markdown",
      "source": [
        "$\\left[ \\begin{array}{ccc}1&0&0\\\\\\frac{1}{3}&- \\frac{1}{3}&0\\\\\\frac{2}{3}&\\frac{7}{3}&-11\\\\ \\end{array} \\right]$"
      ],
      "metadata": {
        "id": "x6op_GbH-z0Z"
      }
    },
    {
      "cell_type": "markdown",
      "source": [
        "8. Realiza el algoritmo de eliminación de Gauss-Jordan para la matriz del ejercicio 6, es decir continua las modificaciones de la matriz mediante operaciones elementales.\n",
        "Por cada paso del algoritmo escribe la celda de código correspondiente."
      ],
      "metadata": {
        "id": "NRMqK0VmB6px"
      }
    },
    {
      "cell_type": "code",
      "source": [
        "M&T((1,2,1))"
      ],
      "metadata": {
        "colab": {
          "base_uri": "https://localhost:8080/",
          "height": 46
        },
        "id": "08dbtTOv_CL1",
        "outputId": "c06dfe11-dc31-4089-d202-cebb8ce99c35"
      },
      "execution_count": 16,
      "outputs": [
        {
          "output_type": "execute_result",
          "data": {
            "text/plain": [
              "Matrix([Vector([1, 0, 3]), Vector([0, -1/3, 7/3]), Vector([0, 0, -11])])"
            ],
            "text/html": [
              "<p style=\"text-align:center;\">$\\left[ \\begin{array}{ccc}1&0&0\\\\0&- \\frac{1}{3}&0\\\\3&\\frac{7}{3}&-11\\\\ \\end{array} \\right]$</p>"
            ],
            "image/png": "$\\left[ \\begin{array}{ccc}1&0&0\\\\0&- \\frac{1}{3}&0\\\\3&\\frac{7}{3}&-11\\\\ \\end{array} \\right]$",
            "text/latex": "$\\left[ \\begin{array}{ccc}1&0&0\\\\0&- \\frac{1}{3}&0\\\\3&\\frac{7}{3}&-11\\\\ \\end{array} \\right]$"
          },
          "metadata": {},
          "execution_count": 16
        }
      ]
    },
    {
      "cell_type": "markdown",
      "source": [
        "$\\left[ \\begin{array}{ccc}1&0&0\\\\0&- \\frac{1}{3}&0\\\\3&\\frac{7}{3}&-11\\\\ \\end{array} \\right]$"
      ],
      "metadata": {
        "id": "R5sH_iMR_KFu"
      }
    },
    {
      "cell_type": "code",
      "source": [
        "M&T((-3,2))"
      ],
      "metadata": {
        "colab": {
          "base_uri": "https://localhost:8080/",
          "height": 46
        },
        "id": "jeQPx-Pm_MZN",
        "outputId": "8f1a1564-821f-48c5-a800-50419a5adee7"
      },
      "execution_count": 17,
      "outputs": [
        {
          "output_type": "execute_result",
          "data": {
            "text/plain": [
              "Matrix([Vector([1, 0, 3]), Vector([0, 1, -7]), Vector([0, 0, -11])])"
            ],
            "text/html": [
              "<p style=\"text-align:center;\">$\\left[ \\begin{array}{ccc}1&0&0\\\\0&1&0\\\\3&-7&-11\\\\ \\end{array} \\right]$</p>"
            ],
            "image/png": "$\\left[ \\begin{array}{ccc}1&0&0\\\\0&1&0\\\\3&-7&-11\\\\ \\end{array} \\right]$",
            "text/latex": "$\\left[ \\begin{array}{ccc}1&0&0\\\\0&1&0\\\\3&-7&-11\\\\ \\end{array} \\right]$"
          },
          "metadata": {},
          "execution_count": 17
        }
      ]
    },
    {
      "cell_type": "markdown",
      "source": [
        "$\\left[ \\begin{array}{ccc}1&0&0\\\\0&1&0\\\\3&-7&-11\\\\ \\end{array} \\right]$"
      ],
      "metadata": {
        "id": "7s0h-2do_Uct"
      }
    },
    {
      "cell_type": "code",
      "source": [
        "M&T((fracc(-1,11),3))"
      ],
      "metadata": {
        "colab": {
          "base_uri": "https://localhost:8080/",
          "height": 46
        },
        "id": "OlvZHI6y_Zls",
        "outputId": "fe2575b7-4dbc-47f6-b134-067557c426b5"
      },
      "execution_count": 18,
      "outputs": [
        {
          "output_type": "execute_result",
          "data": {
            "text/plain": [
              "Matrix([Vector([1, 0, 3]), Vector([0, 1, -7]), Vector([0, 0, 1])])"
            ],
            "text/html": [
              "<p style=\"text-align:center;\">$\\left[ \\begin{array}{ccc}1&0&0\\\\0&1&0\\\\3&-7&1\\\\ \\end{array} \\right]$</p>"
            ],
            "image/png": "$\\left[ \\begin{array}{ccc}1&0&0\\\\0&1&0\\\\3&-7&1\\\\ \\end{array} \\right]$",
            "text/latex": "$\\left[ \\begin{array}{ccc}1&0&0\\\\0&1&0\\\\3&-7&1\\\\ \\end{array} \\right]$"
          },
          "metadata": {},
          "execution_count": 18
        }
      ]
    },
    {
      "cell_type": "markdown",
      "source": [
        "$\\left[ \\begin{array}{ccc}1&0&0\\\\0&1&0\\\\3&-7&1\\\\ \\end{array} \\right]$"
      ],
      "metadata": {
        "id": "AWnVsSlE_tKL"
      }
    },
    {
      "cell_type": "code",
      "source": [
        "M&T((7,3,2))"
      ],
      "metadata": {
        "colab": {
          "base_uri": "https://localhost:8080/",
          "height": 46
        },
        "id": "js7txQkR_w4d",
        "outputId": "24a79cef-2ef0-4a59-cbe9-6b16bc27caf5"
      },
      "execution_count": 19,
      "outputs": [
        {
          "output_type": "execute_result",
          "data": {
            "text/plain": [
              "Matrix([Vector([1, 0, 3]), Vector([0, 1, 0]), Vector([0, 0, 1])])"
            ],
            "text/html": [
              "<p style=\"text-align:center;\">$\\left[ \\begin{array}{ccc}1&0&0\\\\0&1&0\\\\3&0&1\\\\ \\end{array} \\right]$</p>"
            ],
            "image/png": "$\\left[ \\begin{array}{ccc}1&0&0\\\\0&1&0\\\\3&0&1\\\\ \\end{array} \\right]$",
            "text/latex": "$\\left[ \\begin{array}{ccc}1&0&0\\\\0&1&0\\\\3&0&1\\\\ \\end{array} \\right]$"
          },
          "metadata": {},
          "execution_count": 19
        }
      ]
    },
    {
      "cell_type": "markdown",
      "source": [
        "$\\left[ \\begin{array}{ccc}1&0&0\\\\0&1&0\\\\3&0&1\\\\ \\end{array} \\right]$"
      ],
      "metadata": {
        "id": "QevPY7NZ_-oZ"
      }
    },
    {
      "cell_type": "code",
      "source": [
        "M&T((-3,3,1))"
      ],
      "metadata": {
        "colab": {
          "base_uri": "https://localhost:8080/",
          "height": 46
        },
        "id": "vpgBfBpIAAk2",
        "outputId": "dae9dfdc-2343-4fb2-e02f-0980b43c14b1"
      },
      "execution_count": 20,
      "outputs": [
        {
          "output_type": "execute_result",
          "data": {
            "text/plain": [
              "Matrix([Vector([1, 0, 0]), Vector([0, 1, 0]), Vector([0, 0, 1])])"
            ],
            "text/html": [
              "<p style=\"text-align:center;\">$\\left[ \\begin{array}{ccc}1&0&0\\\\0&1&0\\\\0&0&1\\\\ \\end{array} \\right]$</p>"
            ],
            "image/png": "$\\left[ \\begin{array}{ccc}1&0&0\\\\0&1&0\\\\0&0&1\\\\ \\end{array} \\right]$",
            "text/latex": "$\\left[ \\begin{array}{ccc}1&0&0\\\\0&1&0\\\\0&0&1\\\\ \\end{array} \\right]$"
          },
          "metadata": {},
          "execution_count": 20
        }
      ]
    },
    {
      "cell_type": "markdown",
      "source": [
        "$\\left[ \\begin{array}{ccc}1&0&0\\\\0&1&0\\\\0&0&1\\\\ \\end{array} \\right]$"
      ],
      "metadata": {
        "id": "V64ZC7wcAFFn"
      }
    },
    {
      "cell_type": "markdown",
      "source": [
        "9. Encuentra la inversa de la matriz del ejercicio 6."
      ],
      "metadata": {
        "id": "2F3XtwbpIhOO"
      }
    },
    {
      "cell_type": "markdown",
      "source": [
        "10. Resuelva el siguiente sistema de ecuaciones:\n",
        "\n",
        "$$ \\begin{array}{ccc}5x&+7y&-z&=6\\\\2x&+10y&-2z&=4\\\\x&+y&+z&=0\\\\ \\end{array} $$"
      ],
      "metadata": {
        "id": "tABrI61xarPE"
      }
    },
    {
      "cell_type": "code",
      "source": [
        "C=Matrix([[5,7,-1,6],[2,10,-2,4],[1,1,1,0]])\n",
        "C\n"
      ],
      "metadata": {
        "colab": {
          "base_uri": "https://localhost:8080/",
          "height": 46
        },
        "id": "27p3jO0XAiQb",
        "outputId": "6415196d-390d-40a7-ad5b-88de6a221c73"
      },
      "execution_count": 42,
      "outputs": [
        {
          "output_type": "execute_result",
          "data": {
            "text/plain": [
              "Matrix([Vector([5, 2, 1]), Vector([7, 10, 1]), Vector([-1, -2, 1]), Vector([6, 4, 0])])"
            ],
            "text/html": [
              "<p style=\"text-align:center;\">$\\left[ \\begin{array}{cccc}5&7&-1&6\\\\2&10&-2&4\\\\1&1&1&0\\\\ \\end{array} \\right]$</p>"
            ],
            "image/png": "$\\left[ \\begin{array}{cccc}5&7&-1&6\\\\2&10&-2&4\\\\1&1&1&0\\\\ \\end{array} \\right]$",
            "text/latex": "$\\left[ \\begin{array}{cccc}5&7&-1&6\\\\2&10&-2&4\\\\1&1&1&0\\\\ \\end{array} \\right]$"
          },
          "metadata": {},
          "execution_count": 42
        }
      ]
    },
    {
      "cell_type": "markdown",
      "source": [
        "$\\left[ \\begin{array}{cccc}5&7&-1&6\\\\2&10&-2&4\\\\1&1&1&0\\\\ \\end{array} \\right]$"
      ],
      "metadata": {
        "id": "CXjNC1lnHs4G"
      }
    },
    {
      "cell_type": "code",
      "source": [],
      "metadata": {
        "colab": {
          "base_uri": "https://localhost:8080/",
          "height": 114
        },
        "id": "CHW8RgA2AmaT",
        "outputId": "dddc7313-4c83-473d-e12d-f6766ffe682e"
      },
      "execution_count": 48,
      "outputs": [
        {
          "output_type": "error",
          "ename": "SyntaxError",
          "evalue": "invalid syntax (<ipython-input-48-4c8d7af323e6>, line 1)",
          "traceback": [
            "\u001b[0;36m  File \u001b[0;32m\"<ipython-input-48-4c8d7af323e6>\"\u001b[0;36m, line \u001b[0;32m1\u001b[0m\n\u001b[0;31m    C&({1,3})T\u001b[0m\n\u001b[0m             ^\u001b[0m\n\u001b[0;31mSyntaxError\u001b[0m\u001b[0;31m:\u001b[0m invalid syntax\n"
          ]
        }
      ]
    },
    {
      "cell_type": "markdown",
      "source": [
        "$\\left[ \\begin{array}{cccc}-1&7&5&6\\\\-2&10&2&4\\\\1&1&1&0\\\\ \\end{array} \\right]$"
      ],
      "metadata": {
        "id": "OYjxtNBlJIjX"
      }
    },
    {
      "cell_type": "code",
      "source": [],
      "metadata": {
        "id": "ratSdTzVJIN8"
      },
      "execution_count": null,
      "outputs": []
    }
  ]
}